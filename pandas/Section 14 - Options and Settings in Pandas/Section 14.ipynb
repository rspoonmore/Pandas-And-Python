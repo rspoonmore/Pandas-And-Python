{
 "cells": [
  {
   "cell_type": "code",
   "execution_count": 1,
   "metadata": {},
   "outputs": [],
   "source": [
    "import pandas as pd\n",
    "import numpy as np"
   ]
  },
  {
   "cell_type": "code",
   "execution_count": 2,
   "metadata": {},
   "outputs": [],
   "source": [
    "data = np.random.randint(0, 100, [1000, 50])\n",
    "df = pd.DataFrame(data)"
   ]
  },
  {
   "cell_type": "code",
   "execution_count": 10,
   "metadata": {},
   "outputs": [
    {
     "name": "stdout",
     "output_type": "stream",
     "text": [
      "display.max_columns : int\n",
      "    If max_cols is exceeded, switch to truncate view. Depending on\n",
      "    `large_repr`, objects are either centrally truncated or printed as\n",
      "    a summary view. 'None' value means unlimited.\n",
      "\n",
      "    In case python/IPython is running in a terminal and `large_repr`\n",
      "    equals 'truncate' this can be set to 0 and pandas will auto-detect\n",
      "    the width of the terminal and print a truncated object which fits\n",
      "    the screen width. The IPython notebook, IPython qtconsole, or IDLE\n",
      "    do not run in a terminal and hence it is not possible to do\n",
      "    correct auto-detection.\n",
      "    [default: 20] [currently: 20]\n"
     ]
    }
   ],
   "source": [
    "# Find the max number of rows to display\n",
    "pd.options.display.max_rows\n",
    "# Find the max number of columns to display\n",
    "pd.options.display.max_columns\n",
    "# Get option allows you to manually type in option to find\n",
    "pd.get_option(\"max_rows\")\n",
    "# Set option allows you to change a typed in option\n",
    "pd.set_option(\"max_rows\", 20)\n",
    "# Reset option changes an option to the default\n",
    "pd.reset_option(\"max_rows\")\n",
    "# Describe option shows documentation\n",
    "pd.describe_option(\"max_columns\")"
   ]
  },
  {
   "cell_type": "code",
   "execution_count": 15,
   "metadata": {},
   "outputs": [
    {
     "name": "stdout",
     "output_type": "stream",
     "text": [
      "      0     1     2     3     4\n",
      "0  1.03 -0.37 -0.46 -0.07  0.57\n",
      "1  0.46 -0.42  1.84 -0.63  0.45\n",
      "2 -0.77 -0.40 -0.11  0.99 -0.58\n",
      "3 -0.64 -0.72  1.10 -1.83 -0.57\n",
      "4 -0.85 -0.39 -0.47  0.36 -0.66\n",
      "----------Precision set to 2----------\n",
      "      0     1     2     3     4\n",
      "0  1.03 -0.37 -0.46 -0.07  0.57\n",
      "1  0.46 -0.42  1.84 -0.63  0.45\n",
      "2 -0.77 -0.40 -0.11  0.99 -0.58\n",
      "3 -0.64 -0.72  1.10 -1.83 -0.57\n",
      "4 -0.85 -0.39 -0.47  0.36 -0.66\n",
      "----------Precision reset----------\n",
      "          0         1         2         3         4\n",
      "0  1.025912 -0.367961 -0.460883 -0.069122  0.568614\n",
      "1  0.463481 -0.421435  1.838328 -0.627503  0.453826\n",
      "2 -0.772680 -0.395551 -0.105442  0.992850 -0.580491\n",
      "3 -0.641201 -0.719235  1.104362 -1.832203 -0.567354\n",
      "4 -0.852290 -0.392222 -0.469767  0.361560 -0.661500\n"
     ]
    }
   ],
   "source": [
    "# The precision option allows to edit the number of decimals shown\n",
    "data2 = pd.DataFrame(np.random.randn(5, 5))\n",
    "print(data2)\n",
    "pd.set_option(\"precision\", 2)\n",
    "print(\"----------Precision set to 2----------\")\n",
    "print(data2)\n",
    "pd.reset_option(\"precision\")\n",
    "print(\"----------Precision reset----------\")\n",
    "print(data2)"
   ]
  }
 ],
 "metadata": {
  "kernelspec": {
   "display_name": "Python 3",
   "language": "python",
   "name": "python3"
  },
  "language_info": {
   "codemirror_mode": {
    "name": "ipython",
    "version": 3
   },
   "file_extension": ".py",
   "mimetype": "text/x-python",
   "name": "python",
   "nbconvert_exporter": "python",
   "pygments_lexer": "ipython3",
   "version": "3.8.3"
  }
 },
 "nbformat": 4,
 "nbformat_minor": 4
}
