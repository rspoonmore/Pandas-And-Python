{
 "cells": [
  {
   "cell_type": "code",
   "execution_count": 1,
   "metadata": {},
   "outputs": [],
   "source": [
    "import pandas as pd"
   ]
  },
  {
   "cell_type": "code",
   "execution_count": 3,
   "metadata": {},
   "outputs": [],
   "source": [
    "df = pd.read_csv(\"bigmac.csv\", parse_dates=[\"Date\"])\n",
    "# df = pd.read_csv(\"bigmac.csv\", parse_dates=[\"Date\"], index_col = [\"Date\", \"Country\"])\n",
    "df.head(3)"
   ]
  },
  {
   "cell_type": "code",
   "execution_count": null,
   "metadata": {},
   "outputs": [],
   "source": [
    "# .set_index can take multiple keys to set a multi index\n",
    "multiDF = df.copy()\n",
    "multiDF.set_index(keys=[\"Date\", \"Country\"], inplace=True)\n",
    "multiDF.sort_index(inplace=True)"
   ]
  },
  {
   "cell_type": "code",
   "execution_count": 25,
   "metadata": {},
   "outputs": [],
   "source": [
    "# get_level_values() gets indexes from the multiIndex\n",
    "multiDF.index.get_level_values(\"Date\")\n",
    "multiDF.index.get_level_values(\"Country\")\n",
    "multiDF.index.get_level_values(1)\n",
    "\n",
    "Output = False"
   ]
  },
  {
   "cell_type": "code",
   "execution_count": 29,
   "metadata": {},
   "outputs": [],
   "source": [
    "# Change Index Level Name with .set_names() Method\n",
    "# Provide a list as long as the number of indexes\n",
    "multiDF.index.set_names([\"Day\", \"Location\"])\n",
    "# Provide a level if you only want to update one index name\n",
    "multiDF.index.set_names(\"Day\", level=\"Date\", inplace=True)\n",
    "\n",
    "Output = False"
   ]
  },
  {
   "cell_type": "code",
   "execution_count": 32,
   "metadata": {},
   "outputs": [],
   "source": [
    "# Using the sort_index Method on MultiIndex DF\n",
    "# Sort all uniquely by providing a list as long as the number of indexes\n",
    "multiDF.sort_index(ascending=[False, True])\n",
    "# Sort a specific index with level parameter\n",
    "multiDF.sort_index(level=\"Country\", ascending=False)\n",
    "\n",
    "Output = False"
   ]
  },
  {
   "cell_type": "code",
   "execution_count": 46,
   "metadata": {},
   "outputs": [],
   "source": [
    "# Extract rows from a MultiIndex DF\n",
    "# Enter the two index names in a tuple to acces MultiIndex\n",
    "multiDF.loc[(\"2010-01-01\", \"Argentina\")]\n",
    "# Now you can enter any columns you want like in a traditional .loc command\n",
    "multiDF.loc[(\"2010-01-01\", \"Argentina\"), [\"Price in US Dollars\", \"Price in US Dollars\"]]\n",
    "\n",
    "# Must put a comma in the tuple in order for python to recognize it as a tuple\n",
    "multiDF.loc[(\"2010-01-01,\")]\n",
    "\n",
    "# Each row still has the same index as if it was a single index\n",
    "multiDF.iloc[[0, 2, 10]]\n",
    "\n",
    "Output = False"
   ]
  },
  {
   "cell_type": "code",
   "execution_count": 58,
   "metadata": {},
   "outputs": [],
   "source": [
    "# The transpose() method on a DF\n",
    "transDF = df.copy().set_index([\"Date\", \"Country\"]).sort_index()\n",
    "transDF = transDF.transpose()\n",
    "\n",
    "# Using .loc on a multiIndex column DF\n",
    "transDF.loc[(\"Price in US Dollars\",), (\"2010-01-01\", \"Sri Lanka\")]\n",
    "\n",
    "# Slicing on last example uses : in between tuples\n",
    "transDF.loc[(\"Price in US Dollars\",), (\"2010-01-01\", \"Sri Lanka\"):(\"2010-01-01\",\"Ukraine\")]\n",
    "\n",
    "Output = False"
   ]
  },
  {
   "cell_type": "code",
   "execution_count": 64,
   "metadata": {},
   "outputs": [
    {
     "data": {
      "text/html": [
       "<div>\n",
       "<style scoped>\n",
       "    .dataframe tbody tr th:only-of-type {\n",
       "        vertical-align: middle;\n",
       "    }\n",
       "\n",
       "    .dataframe tbody tr th {\n",
       "        vertical-align: top;\n",
       "    }\n",
       "\n",
       "    .dataframe thead th {\n",
       "        text-align: right;\n",
       "    }\n",
       "</style>\n",
       "<table border=\"1\" class=\"dataframe\">\n",
       "  <thead>\n",
       "    <tr style=\"text-align: right;\">\n",
       "      <th></th>\n",
       "      <th></th>\n",
       "      <th>Price in US Dollars</th>\n",
       "    </tr>\n",
       "    <tr>\n",
       "      <th>Day</th>\n",
       "      <th>Country</th>\n",
       "      <th></th>\n",
       "    </tr>\n",
       "  </thead>\n",
       "  <tbody>\n",
       "    <tr>\n",
       "      <th rowspan=\"3\" valign=\"top\">2010-01-01</th>\n",
       "      <th>Argentina</th>\n",
       "      <td>1.84</td>\n",
       "    </tr>\n",
       "    <tr>\n",
       "      <th>Australia</th>\n",
       "      <td>3.98</td>\n",
       "    </tr>\n",
       "    <tr>\n",
       "      <th>Brazil</th>\n",
       "      <td>4.76</td>\n",
       "    </tr>\n",
       "  </tbody>\n",
       "</table>\n",
       "</div>"
      ],
      "text/plain": [
       "                      Price in US Dollars\n",
       "Day        Country                       \n",
       "2010-01-01 Argentina                 1.84\n",
       "           Australia                 3.98\n",
       "           Brazil                    4.76"
      ]
     },
     "execution_count": 64,
     "metadata": {},
     "output_type": "execute_result"
    }
   ],
   "source": [
    "# swaplevel Method swaps levels in index\n",
    "multiDF.swaplevel()\n",
    "\n",
    "# With > 2 indexes, provide the two indexes to swap\n",
    "multiDF.swaplevel(\"Country\", \"Day\")\n",
    "\n",
    "# In order to overwrite, have to save on top of itself\n",
    "multiDF = multiDF.swaplevel(\"Country\", \"Day\")\n",
    "\n",
    "Output = False"
   ]
  },
  {
   "cell_type": "code",
   "execution_count": 70,
   "metadata": {},
   "outputs": [
    {
     "name": "stdout",
     "output_type": "stream",
     "text": [
      "                  Population           GDP\n",
      "country    year                           \n",
      "Arab World 2015  392022276.0  2.530102e+12\n",
      "           2014  384222592.0  2.873600e+12\n",
      "           2013  376504253.0  2.846994e+12\n",
      "           2012  368802611.0  2.773270e+12\n",
      "           2011  361031820.0  2.497945e+12\n",
      "country     year            \n",
      "Arab World  2015  Population    3.920223e+08\n",
      "                  GDP           2.530102e+12\n",
      "            2014  Population    3.842226e+08\n",
      "                  GDP           2.873600e+12\n",
      "            2013  Population    3.765043e+08\n",
      "dtype: float64\n"
     ]
    }
   ],
   "source": [
    "# the .stack() Method to move column based index to a row based index\n",
    "\n",
    "world = pd.read_csv(\"worldstats.csv\", index_col = [\"country\", \"year\"])\n",
    "print(world.head(5))\n",
    "stackDF = world.stack()\n",
    "print(stackDF.head(5))\n",
    "\n",
    "# stackDF got saved as a Series because it has one column. You can make it a DF using to_frame()\n",
    "stackDF.to_frame()\n",
    "\n",
    "Output = False"
   ]
  },
  {
   "cell_type": "code",
   "execution_count": 87,
   "metadata": {},
   "outputs": [],
   "source": [
    "# unstack does the reverse moving a row based index to a column based index\n",
    "stackDF.unstack()\n",
    "stackDF.unstack(\"year\")\n",
    "\n",
    "# can chaing unstacks for every multiIndex()\n",
    "stackDF.unstack().unstack().unstack()\n",
    "\n",
    "# You can also provide the index that wish to move from the multiIndex\n",
    "stackDF.unstack(level=1)\n",
    "\n",
    "# Can provide a value to fill any missing rows\n",
    "stackDF.unstack(level=0, fill_value=0)\n",
    "\n",
    "# Can also unstack multiple levels at once\n",
    "stackDF.unstack(level=[\"country\", \"year\"], fill_value=0)\n",
    "stackDF.unstack(level=[0, 1], fill_value=0)\n",
    "\n",
    "Output = False"
   ]
  },
  {
   "cell_type": "code",
   "execution_count": 96,
   "metadata": {},
   "outputs": [],
   "source": [
    "# .pivot() Method\n",
    "sales = pd.read_csv(\"salesmen.csv\", parse_dates = [\"Date\"])\n",
    "sales[\"Salesman\"] = sales[\"Salesman\"].astype(\"category\")\n",
    "\n",
    "pivot = sales.pivot(index=\"Date\", columns=\"Salesman\", values=\"Revenue\")"
   ]
  },
  {
   "cell_type": "code",
   "execution_count": 105,
   "metadata": {},
   "outputs": [],
   "source": [
    "# the .pivot_table() Method\n",
    "foods = pd.read_csv(\"foods.csv\")\n",
    "\n",
    "# must provide an aggfunc if you don't want the mean\n",
    "foods.pivot_table(values=\"Spend\", index=\"Gender\")\n",
    "# foods.pivot_table(values=\"Spend\", index=\"Gender\", aggfunc=\"sum\")\n",
    "\n",
    "# Can add columns to pivot table\n",
    "foods.pivot_table(values=\"Spend\", index=[\"Gender\", \"Item\"], columns=\"City\", aggfunc=\"sum\")\n",
    "\n",
    "# Can add MultiIndex to columns\n",
    "foods.pivot_table(values=\"Spend\", index=[\"Gender\", \"Item\"], columns=[\"Frequency\", \"City\"], aggfunc=\"sum\")\n",
    "\n",
    "# aggfunc can be mean, max, min, sum, count\n",
    "foods.pivot_table(values=\"Spend\", index=\"Gender\", columns=\"City\", aggfunc=\"count\")\n",
    "\n",
    "Output = False"
   ]
  },
  {
   "cell_type": "code",
   "execution_count": 116,
   "metadata": {},
   "outputs": [
    {
     "name": "stdout",
     "output_type": "stream",
     "text": [
      "  Salesman      Q1      Q2      Q3      Q4\n",
      "0    Boris  602908  233879  354479   32704\n",
      "1      Bob   43790  514863  297151  544493\n",
      "2    Tommy  392668  113579  430882  247231\n",
      "3   Travis  834663  266785  749238  570524\n",
      "         Quarter  Revenue\n",
      "Salesman                 \n",
      "Bob           Q1    43790\n",
      "Bob           Q3   297151\n",
      "Bob           Q2   514863\n",
      "Bob           Q4   544493\n",
      "Boris         Q1   602908\n",
      "Boris         Q2   233879\n",
      "Boris         Q4    32704\n"
     ]
    }
   ],
   "source": [
    "# pd.melt() reverses pivot tables\n",
    "q = pd.read_csv(\"quarters.csv\")\n",
    "print(q.head(4))\n",
    "print(pd.melt(q, id_vars=\"Salesman\", var_name=\"Quarter\", value_name=\"Revenue\").set_index(\"Salesman\").sort_index().head(7))"
   ]
  },
  {
   "cell_type": "code",
   "execution_count": null,
   "metadata": {},
   "outputs": [],
   "source": []
  }
 ],
 "metadata": {
  "kernelspec": {
   "display_name": "Python 3",
   "language": "python",
   "name": "python3"
  },
  "language_info": {
   "codemirror_mode": {
    "name": "ipython",
    "version": 3
   },
   "file_extension": ".py",
   "mimetype": "text/x-python",
   "name": "python",
   "nbconvert_exporter": "python",
   "pygments_lexer": "ipython3",
   "version": "3.8.3"
  }
 },
 "nbformat": 4,
 "nbformat_minor": 4
}
