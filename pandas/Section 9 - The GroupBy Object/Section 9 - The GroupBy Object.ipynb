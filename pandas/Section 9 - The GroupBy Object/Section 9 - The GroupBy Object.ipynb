{
 "cells": [
  {
   "cell_type": "code",
   "execution_count": 1,
   "metadata": {},
   "outputs": [],
   "source": [
    "import pandas as pd"
   ]
  },
  {
   "cell_type": "code",
   "execution_count": 3,
   "metadata": {},
   "outputs": [],
   "source": [
    "df = pd.read_csv(\"fortune1000.csv\", index_col=\"Rank\")"
   ]
  },
  {
   "cell_type": "code",
   "execution_count": 5,
   "metadata": {},
   "outputs": [],
   "source": [
    "df[\"Sector\"] = df[\"Sector\"].astype(\"category\")"
   ]
  },
  {
   "cell_type": "code",
   "execution_count": 7,
   "metadata": {},
   "outputs": [],
   "source": [
    "# .groupby(by) by can be a single column or a list\n",
    "# This creates a DataFrameGroupBy object\n",
    "sectors = df.groupby(\"Sector\")"
   ]
  },
  {
   "cell_type": "code",
   "execution_count": 25,
   "metadata": {},
   "outputs": [],
   "source": [
    "# find the number of unique sectors in DF using .nunique or len of groupby\n",
    "len(sectors)\n",
    "df[\"Sector\"].nunique()\n",
    "\n",
    "# .size() give the values of the sectors and the number of rows in each\n",
    "sectors.size().sort_values(ascending=False)\n",
    "\n",
    "# .first() pulls the first row from the DF that had each Sector\n",
    "sectors.first()\n",
    "\n",
    "# .last() pulls the last row from the DF that had each Sector\n",
    "sectors.last()\n",
    "\n",
    "# .groups gives a dict of each sector and the coorelated rows for each sector in the main DF\n",
    "sectors.groups\n",
    "\n",
    "sectors.groups[\"Apparel\"]\n",
    "\n",
    "Output = False"
   ]
  },
  {
   "cell_type": "code",
   "execution_count": 42,
   "metadata": {},
   "outputs": [],
   "source": [
    "# Get a all rows in a group from a DF with .get_group()\n",
    "sectors.get_group(\"Apparel\")\n",
    "\n",
    "sectors.get_group(list(sectors.groups.keys())[5])\n",
    "\n",
    "Output = False"
   ]
  },
  {
   "cell_type": "code",
   "execution_count": 53,
   "metadata": {},
   "outputs": [],
   "source": [
    "# Methods on GroupByObject and DF columns\n",
    "# This pulls the max of the left most column in DF (last alphabetical Company Here)\n",
    "sectors.max()\n",
    "sectors.min()\n",
    "\n",
    "# Create a DF that sums up the numerical columns\n",
    "sectors.sum()\n",
    "sectors.mean()\n",
    "\n",
    "# Can run math methods on specific numerical columns as well\n",
    "sectors[\"Revenue\"].sum()\n",
    "sectors[\"Employees\"].mean()\n",
    "sectors[\"Profits\"].max()\n",
    "sectors[\"Profits\"].min()\n",
    "sectors[[\"Revenue\", \"Profits\"]].sum()\n",
    "\n",
    "Output = False"
   ]
  },
  {
   "cell_type": "code",
   "execution_count": 60,
   "metadata": {},
   "outputs": [],
   "source": [
    "# Grouping by Multiple Columns\n",
    "# Creates a GroupBy Object with a MultiIndex\n",
    "industries = df.groupby([\"Sector\", \"Industry\"])\n",
    "industries.sum().fillna(0)\n",
    "\n",
    "Output = False"
   ]
  },
  {
   "cell_type": "code",
   "execution_count": 65,
   "metadata": {},
   "outputs": [],
   "source": [
    "# agg() method on DF\n",
    "# can do different functions on different columns\n",
    "sectors.agg({\"Revenue\": \"sum\",\n",
    "             \"Profits\": \"sum\",\n",
    "             \"Employees\": \"mean\"})\n",
    "\n",
    "# Do multiple operations to each column\n",
    "sectors.agg([\"size\", \"sum\", \"mean\"])\n",
    "sectors.agg({\"Revenue\": [\"size\", \"sum\", \"mean\"],\n",
    "             \"Profits\": \"sum\"})\n",
    "\n",
    "Output = False"
   ]
  },
  {
   "cell_type": "code",
   "execution_count": 66,
   "metadata": {},
   "outputs": [],
   "source": [
    "# Iterating through Groups\n",
    "# show the row with the max Profit for each sector\n",
    "newDF = pd.DataFrame(columns = df.columns)\n",
    "\n",
    "# loop through the sectors and the DF in sectors and append the largest value to newDF\n",
    "for sector, data in sectors:\n",
    "    newDF = newDF.append(data.nlargest(1, \"Revenue\"))"
   ]
  },
  {
   "cell_type": "code",
   "execution_count": 71,
   "metadata": {},
   "outputs": [],
   "source": [
    "cities = df.groupby(\"Location\")\n",
    "thirdDF = pd.DataFrame(columns = df.columns)\n",
    "for city, data in cities:\n",
    "    thirdDF = thirdDF.append(data.nlargest(1, \"Revenue\"))\n",
    "    \n",
    "thirdDF\n",
    "\n",
    "Output = False"
   ]
  },
  {
   "cell_type": "code",
   "execution_count": null,
   "metadata": {},
   "outputs": [],
   "source": []
  }
 ],
 "metadata": {
  "kernelspec": {
   "display_name": "Python 3",
   "language": "python",
   "name": "python3"
  },
  "language_info": {
   "codemirror_mode": {
    "name": "ipython",
    "version": 3
   },
   "file_extension": ".py",
   "mimetype": "text/x-python",
   "name": "python",
   "nbconvert_exporter": "python",
   "pygments_lexer": "ipython3",
   "version": "3.8.3"
  }
 },
 "nbformat": 4,
 "nbformat_minor": 4
}
