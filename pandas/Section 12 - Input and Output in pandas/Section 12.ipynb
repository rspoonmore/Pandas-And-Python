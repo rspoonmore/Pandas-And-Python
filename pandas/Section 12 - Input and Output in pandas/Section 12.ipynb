{
 "cells": [
  {
   "cell_type": "code",
   "execution_count": 36,
   "metadata": {},
   "outputs": [],
   "source": [
    "import pandas as pd"
   ]
  },
  {
   "cell_type": "code",
   "execution_count": 37,
   "metadata": {},
   "outputs": [],
   "source": [
    "# Passing a URL to the pd.read_csv method\n",
    "url = \"https://data.cityofnewyork.us/api/views/25th-nujf/rows.csv?accessType=DOWNLOAD\"\n",
    "babyNames = pd.read_csv(url)"
   ]
  },
  {
   "cell_type": "code",
   "execution_count": 38,
   "metadata": {},
   "outputs": [],
   "source": [
    "# Object conversion\n",
    "babyNames[\"Child's First Name\"].tolist()\n",
    "# Index has to be unique for a dictionary\n",
    "babyNames[\"Child's First Name\"].to_dict()\n",
    "babyNames[\"Child's First Name\"].to_json()\n",
    "# Capitalize, drop duplicates, and sort names into one long string\n",
    "\", \".join(babyNames[\"Child's First Name\"].str.title().drop_duplicates().sort_values())\n",
    "\n",
    "Output = False"
   ]
  },
  {
   "cell_type": "code",
   "execution_count": 39,
   "metadata": {},
   "outputs": [],
   "source": [
    "# Export CSV File with the to_csv Method\n",
    "exportDF = babyNames.copy()\n",
    "exportDF.set_index([\"Year of Birth\", \"Gender\", \"Ethnicity\", \"Rank\"], inplace=True)\n",
    "exportDF = exportDF.drop_duplicates()\n",
    "exportDF.sort_index(inplace=True)\n",
    "# Set Index=False to not include index in CSV\n",
    "exportDF.to_csv(\"NYC_Baby_Names.csv\")\n",
    "exportDF.reset_index(inplace=True)\n",
    "exportDF.to_csv(\"Summary_NYC_Baby_Names.csv\", index=False, columns=[\"Gender\", \"Ethnicity\", \"Child's First Name\"], encoding=\"utf-8\")"
   ]
  },
  {
   "cell_type": "code",
   "execution_count": 48,
   "metadata": {},
   "outputs": [],
   "source": [
    "# Install xlrd and openpyxl run conda install xlrd openpyxl\n",
    "# Import Excel File into pandas with read_excel Method\n",
    "df = pd.read_excel(\"Data - Single Worksheet.xlsx\")\n",
    "# If you provide mutliple sheets, saved as a dictionary of DFs\n",
    "dataDict = pd.read_excel(\"Data - Multiple Worksheets.xlsx\", sheet_name=[\"Data 1\", \"Data 2\"])\n",
    "# If you set sheet_name=None, then imports all sheets\n",
    "dataDict = pd.read_excel(\"Data - Multiple Worksheets.xlsx\", sheet_name=None)\n",
    "# Worksheet names are keys if you provide names into sheet_name parameter\n",
    "dataDict.keys()\n",
    "\n",
    "Output = False"
   ]
  },
  {
   "cell_type": "code",
   "execution_count": 51,
   "metadata": {},
   "outputs": [],
   "source": [
    "# THe to_excel Method\n",
    "girls = babyNames[babyNames[\"Gender\"].str.lower() == \"female\"]\n",
    "boys = babyNames[babyNames[\"Gender\"].str.lower() == \"male\"]\n",
    "# Must create an excel writer to write to an excel file\n",
    "excel_file = pd.ExcelWriter(\"BabyNames.xlsx\")\n",
    "columnsToInclude = [\"Year of Birth\", \"Ethnicity\", \"Child's First Name\", \"Count\"]\n",
    "girls.to_excel(excel_file, sheet_name=\"Girls\", index=False, columns=columnsToInclude)\n",
    "boys.to_excel(excel_file, sheet_name=\"Boys\", index=False, columns=columnsToInclude)\n",
    "\n",
    "excel_file.save()"
   ]
  },
  {
   "cell_type": "code",
   "execution_count": null,
   "metadata": {},
   "outputs": [],
   "source": []
  }
 ],
 "metadata": {
  "kernelspec": {
   "display_name": "Python 3",
   "language": "python",
   "name": "python3"
  },
  "language_info": {
   "codemirror_mode": {
    "name": "ipython",
    "version": 3
   },
   "file_extension": ".py",
   "mimetype": "text/x-python",
   "name": "python",
   "nbconvert_exporter": "python",
   "pygments_lexer": "ipython3",
   "version": "3.8.3"
  }
 },
 "nbformat": 4,
 "nbformat_minor": 4
}
