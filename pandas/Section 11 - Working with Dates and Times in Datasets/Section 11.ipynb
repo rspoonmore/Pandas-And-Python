{
 "cells": [
  {
   "cell_type": "code",
   "execution_count": 2,
   "metadata": {},
   "outputs": [],
   "source": [
    "import pandas as pd\n",
    "import datetime as dt"
   ]
  },
  {
   "cell_type": "code",
   "execution_count": 16,
   "metadata": {},
   "outputs": [],
   "source": [
    "# date(Year, Month, Day)\n",
    "carsonDOB = dt.date(1993, 10, 15)\n",
    "\n",
    "# Access with dot notation\n",
    "carsonDOB.year\n",
    "carsonDOB.month\n",
    "carsonDOB.day\n",
    "\n",
    "# datetime(Year, Month, Day, Hour, Minutes)\n",
    "ryanDOB = dt.datetime(1995, 4, 18, 17, 30)\n",
    "\n",
    "str(ryanDOB)\n",
    "\n",
    "Output = False"
   ]
  },
  {
   "cell_type": "code",
   "execution_count": 15,
   "metadata": {},
   "outputs": [],
   "source": [
    "# the Timestamp object\n",
    "pd.Timestamp(\"2015-03-31\")\n",
    "pd.Timestamp(\"2015/03/31 7:30:15.498 PM\")\n",
    "pd.Timestamp(ryanDOB)\n",
    "\n",
    "Output = False"
   ]
  },
  {
   "cell_type": "code",
   "execution_count": 22,
   "metadata": {},
   "outputs": [],
   "source": [
    "# The DateTimeIndex Object\n",
    "dates = [\"2010-06-08\", \"2015-8-10\"]\n",
    "pd.DatetimeIndex(dates)\n",
    "\n",
    "dates = [carsonDOB, ryanDOB]\n",
    "pd.Series(data = [100, 680], index = pd.DatetimeIndex(dates))\n",
    "\n",
    "Output = False"
   ]
  },
  {
   "cell_type": "code",
   "execution_count": 35,
   "metadata": {},
   "outputs": [],
   "source": [
    "# the pd.to_datetime() Method\n",
    "# Can take strings, TimeStamps, lists, datetimes, and even Series\n",
    "pd.to_datetime(\"2001-04-19\")\n",
    "pd.to_datetime(ryanDOB)\n",
    "pd.to_datetime([\"2009-10-01\", \"November 15th, 2020\", \"2007\"])\n",
    "# Unix time as well\n",
    "pd.to_datetime(1349720105, unit=\"s\")\n",
    "\n",
    "times = pd.Series([\"2009-10-01\", \"November 15th, 2020\", \"2007\"])\n",
    "pd.to_datetime(times)\n",
    "\n",
    "# How to handle bad dates\n",
    "dates = pd.Series([\"July 4th, 1776\", \"10/15/1993\", \"Hi\", \"2015-02-31\"])\n",
    "# Replace bads dates with NaT\n",
    "pd.to_datetime(dates, errors=\"coerce\")\n",
    "# Do nothing if the values aren't correct\n",
    "pd.to_datetime(dates, errors=\"ignore\")\n",
    "\n",
    "Output = False"
   ]
  },
  {
   "cell_type": "code",
   "execution_count": 61,
   "metadata": {},
   "outputs": [],
   "source": [
    "# Creating a range of dates with the pd.date_range() Method\n",
    "# Must have two filled out of start, end, and periods\n",
    "pd.date_range(start=carsonDOB, end=ryanDOB)\n",
    "\n",
    "# Can change the frequency using freq (Defaulted to D for days)\n",
    "# D : Day\n",
    "# M : Month (counts the month ends)\n",
    "# MS : Month (counts the month starts)\n",
    "# YS : Year (counts the year starts)\n",
    "# A : Year (counts the year ends)\n",
    "# B : Business Days (M-F)\n",
    "# W : Week\n",
    "# 5D : 5 Days\n",
    "# W-FRI : Week starting on a Friday\n",
    "# H : Hour \n",
    "pd.date_range(start=\"2020-12-20\", end=\"2021-01-05\", freq=\"B\")\n",
    "\n",
    "# Start and Periods gives you n number of periods by the freq\n",
    "pd.date_range(start=\"2010-01-01\", periods=100, freq=\"W-MON\")\n",
    "pd.date_range(start=\"2010-01-01\", periods=100, freq=\"Y\")\n",
    "pd.date_range(start=\"2010-01-01\", periods=100, freq=\"2YS\")\n",
    "\n",
    "# End and Periods gives you n number of periods by the freq looking backwards\n",
    "pd.date_range(end=\"1964-01-17\", periods = 10, freq=\"MS\")\n",
    "\n",
    "Output = False"
   ]
  },
  {
   "cell_type": "code",
   "execution_count": 79,
   "metadata": {},
   "outputs": [
    {
     "data": {
      "text/plain": [
       "5     2000-04-30\n",
       "57    2003-09-30\n",
       "71    2004-08-31\n",
       "90    2005-11-30\n",
       "123   2008-01-31\n",
       "161   2010-07-31\n",
       "dtype: datetime64[ns]"
      ]
     },
     "execution_count": 79,
     "metadata": {},
     "output_type": "execute_result"
    }
   ],
   "source": [
    "# the .dt Accessor to get to date time extractions\n",
    "dateRange = pd.date_range(start = \"2000-01-01\", end = \"2010-12-31\", freq = \"24D\")\n",
    "s = pd.Series(dateRange)\n",
    "# To get month of s values\n",
    "months = s.dt.month\n",
    "weekdays = s.dt.day_name()\n",
    "\n",
    "# Can check if dates are month start, quarter start, etc\n",
    "s.dt.is_quarter_start\n",
    "s[s.dt.is_month_end]"
   ]
  },
  {
   "cell_type": "code",
   "execution_count": null,
   "metadata": {},
   "outputs": [],
   "source": []
  }
 ],
 "metadata": {
  "kernelspec": {
   "display_name": "Python 3",
   "language": "python",
   "name": "python3"
  },
  "language_info": {
   "codemirror_mode": {
    "name": "ipython",
    "version": 3
   },
   "file_extension": ".py",
   "mimetype": "text/x-python",
   "name": "python",
   "nbconvert_exporter": "python",
   "pygments_lexer": "ipython3",
   "version": "3.8.3"
  }
 },
 "nbformat": 4,
 "nbformat_minor": 4
}
