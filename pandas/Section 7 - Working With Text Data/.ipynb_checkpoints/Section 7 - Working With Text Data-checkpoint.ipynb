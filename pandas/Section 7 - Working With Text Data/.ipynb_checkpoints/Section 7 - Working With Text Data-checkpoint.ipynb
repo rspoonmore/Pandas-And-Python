{
 "cells": [
  {
   "cell_type": "code",
   "execution_count": 2,
   "metadata": {},
   "outputs": [],
   "source": [
    "import pandas as pd"
   ]
  },
  {
   "cell_type": "code",
   "execution_count": 41,
   "metadata": {},
   "outputs": [],
   "source": [
    "df = pd.read_csv(\"chicago.csv\")"
   ]
  },
  {
   "cell_type": "code",
   "execution_count": 42,
   "metadata": {},
   "outputs": [],
   "source": [
    "df[\"Department\"] = df[\"Department\"].astype(\"category\")"
   ]
  },
  {
   "cell_type": "code",
   "execution_count": 43,
   "metadata": {},
   "outputs": [
    {
     "name": "stdout",
     "output_type": "stream",
     "text": [
      "<class 'pandas.core.frame.DataFrame'>\n",
      "RangeIndex: 32063 entries, 0 to 32062\n",
      "Data columns (total 4 columns):\n",
      " #   Column                  Non-Null Count  Dtype   \n",
      "---  ------                  --------------  -----   \n",
      " 0   Name                    32062 non-null  object  \n",
      " 1   Position Title          32062 non-null  object  \n",
      " 2   Department              32062 non-null  category\n",
      " 3   Employee Annual Salary  32062 non-null  object  \n",
      "dtypes: category(1), object(3)\n",
      "memory usage: 784.4+ KB\n"
     ]
    }
   ],
   "source": [
    "df.info()"
   ]
  },
  {
   "cell_type": "code",
   "execution_count": 44,
   "metadata": {},
   "outputs": [],
   "source": [
    "df.dropna(how=\"all\", inplace=True)"
   ]
  },
  {
   "cell_type": "code",
   "execution_count": 45,
   "metadata": {},
   "outputs": [],
   "source": [
    "# .lower(), .upper(), .title(), and .len()\n",
    "# must prefix with .str\n",
    "df[\"Department\"].str.lower()\n",
    "df[\"Department\"].str.upper()\n",
    "df[\"Department\"] = df[\"Department\"].str.title()\n",
    "df[\"Position Title\"] = df[\"Position Title\"].str.title()\n",
    "df[\"Department\"].str.len()\n",
    "\n",
    "Output = False"
   ]
  },
  {
   "cell_type": "code",
   "execution_count": 46,
   "metadata": {},
   "outputs": [],
   "source": [
    "# str.replace()\n",
    "df[\"Employee Annual Salary\"] = df[\"Employee Annual Salary\"].str.replace(\"$\", \"\").str.replace(\",\", \"\").astype(\"float\")\n",
    "df[\"Department\"] = df[\"Department\"].str.replace(\"Mgmnt\", \"Management\")\n",
    "df[\"Position Title\"] = df[\"Position Title\"].str.replace(\"Ii\", \"II\").str.replace(\"IIi\", \"III\").str.replace(\"Iv\", \"IV\")"
   ]
  },
  {
   "cell_type": "code",
   "execution_count": 57,
   "metadata": {},
   "outputs": [],
   "source": [
    "# filtering with string methods\n",
    "# contains\n",
    "df[df[\"Position Title\"].str.lower().str.contains(\"water\")]\n",
    "# startswith\n",
    "df[df[\"Position Title\"].str.lower().str.startswith(\"water\")]\n",
    "# endswith\n",
    "df[df[\"Position Title\"].str.lower().str.endswith(\"iv\")]\n",
    "\n",
    "Output = False"
   ]
  },
  {
   "cell_type": "code",
   "execution_count": 60,
   "metadata": {},
   "outputs": [],
   "source": [
    "# .strip(), .rstrip(), .lstrip() Methods\n",
    "df[\"Name\"] = df[\"Name\"].str.strip()\n",
    "df[\"Position Title\"] = df[\"Position Title\"].str.strip()\n",
    "df[\"Department\"] = df[\"Department\"].str.strip()"
   ]
  },
  {
   "cell_type": "code",
   "execution_count": 61,
   "metadata": {},
   "outputs": [],
   "source": [
    "df.set_index(\"Name\", inplace=True)"
   ]
  },
  {
   "cell_type": "code",
   "execution_count": 63,
   "metadata": {},
   "outputs": [],
   "source": [
    "# String methods on indexes\n",
    "df.index = df.index.str.strip().str.title()"
   ]
  },
  {
   "cell_type": "code",
   "execution_count": 66,
   "metadata": {},
   "outputs": [],
   "source": [
    "# String methods on columns\n",
    "df.columns = df.columns.str.upper()"
   ]
  },
  {
   "cell_type": "code",
   "execution_count": 78,
   "metadata": {},
   "outputs": [],
   "source": [
    "# .str.split() Method\n",
    "# df.reset_index(inplace=True)\n",
    "\n",
    "# .get() pulls the column and the index position given\n",
    "# Pull count of last names\n",
    "df[\"Name\"].str.split(\",\").str.get(0).value_counts()\n",
    "# Pull count of first word in title\n",
    "df[\"POSITION TITLE\"].str.split(\" \").str.get(0).str.split(\"-\").str.get(0).value_counts()\n",
    "\n",
    "Output = False"
   ]
  },
  {
   "cell_type": "code",
   "execution_count": 81,
   "metadata": {},
   "outputs": [],
   "source": [
    "# Get most common first name\n",
    "# Split by comma and get second elemnet, then strip white spaces, then split by space, then .get() the first element as first name\n",
    "df[\"Name\"].str.split(\",\").str.get(1).str.strip().str.split(\" \").str.get(0).value_counts()\n",
    "\n",
    "Output = False"
   ]
  },
  {
   "cell_type": "code",
   "execution_count": 87,
   "metadata": {},
   "outputs": [],
   "source": [
    "# expand and n Parameters of the str.split() Method\n",
    "# expand=True returns a DF of split results\n",
    "nameDF = df.copy()\n",
    "nameDF[[\"Last Name\", \"First Name\"]] = nameDF[\"Name\"].str.split(\",\", expand=True)\n",
    "\n",
    "# n limits the amount of times split works. setting to 1 gives one split (2 elements)\n",
    "nameDF[\"POSITION TITLE\"].str.split(\" \", expand=True, n=1)\n",
    "\n",
    "Output = False"
   ]
  },
  {
   "cell_type": "code",
   "execution_count": null,
   "metadata": {},
   "outputs": [],
   "source": []
  }
 ],
 "metadata": {
  "kernelspec": {
   "display_name": "Python 3",
   "language": "python",
   "name": "python3"
  },
  "language_info": {
   "codemirror_mode": {
    "name": "ipython",
    "version": 3
   },
   "file_extension": ".py",
   "mimetype": "text/x-python",
   "name": "python",
   "nbconvert_exporter": "python",
   "pygments_lexer": "ipython3",
   "version": "3.8.3"
  }
 },
 "nbformat": 4,
 "nbformat_minor": 4
}
