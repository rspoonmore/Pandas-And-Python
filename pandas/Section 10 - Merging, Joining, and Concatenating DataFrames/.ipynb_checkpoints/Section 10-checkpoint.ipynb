{
 "cells": [
  {
   "cell_type": "code",
   "execution_count": 1,
   "metadata": {},
   "outputs": [],
   "source": [
    "import pandas as pd"
   ]
  },
  {
   "cell_type": "code",
   "execution_count": 3,
   "metadata": {},
   "outputs": [],
   "source": [
    "week1 = pd.read_csv(\"Restaurant - Week 1 Sales.csv\")\n",
    "week2 = pd.read_csv(\"Restaurant - Week 2 Sales.csv\")\n",
    "customers = pd.read_csv(\"Restaurant - Customers.csv\")\n",
    "foods = pd.read_csv(\"Restaurant - Foods.csv\")"
   ]
  },
  {
   "cell_type": "code",
   "execution_count": 9,
   "metadata": {},
   "outputs": [],
   "source": [
    "# pd.concat Method\n",
    "# ignore_index=True resets indexes so there are no duplicates\n",
    "pd.concat(objs = [week1, week2], ignore_index=True)\n",
    "# Can also do this by appending on week1\n",
    "week1.append(other = week2, ignore_index=True)\n",
    "\n",
    "# To create a MultiIndex with a new and the original index, use keys\n",
    "pd.concat(objs=[week1, week2], keys=[\"Week 1\", \"Week 2\"])\n",
    "\n",
    "Output = False"
   ]
  },
  {
   "cell_type": "code",
   "execution_count": 13,
   "metadata": {},
   "outputs": [],
   "source": [
    "# inner joins with .merge()\n",
    "week1.merge(week2, how=\"inner\", on=\"Customer ID\", suffixes=(\"_WK1\", \"_WK2\"))\n",
    "\n",
    "# use a list in the on to merge on multiple values\n",
    "week1.merge(week2, how=\"inner\", on=[\"Customer ID\", \"Food ID\"])\n",
    "\n",
    "Output = False"
   ]
  },
  {
   "cell_type": "code",
   "execution_count": 19,
   "metadata": {},
   "outputs": [],
   "source": [
    "# outer joins\n",
    "week1.merge(week2, how=\"outer\", on=\"Customer ID\", suffixes=(\" - Week 1\", \" - Week 2\"))\n",
    "\n",
    "# Set indicator=True to know where the rows got data\n",
    "merged = week1.merge(week2, how=\"outer\", on=\"Customer ID\", suffixes=(\" - Week 1\", \" - Week 2\"), indicator=True)\n",
    "merged[\"_merge\"].value_counts()\n",
    "\n",
    "merged[merged[\"_merge\"].isin([\"left_only\", \"right_only\"])]\n",
    "\n",
    "Output = False"
   ]
  },
  {
   "cell_type": "code",
   "execution_count": 22,
   "metadata": {},
   "outputs": [],
   "source": [
    "# left joins\n",
    "left = week1.merge(foods, how=\"left\", on=\"Food ID\", sort=True)"
   ]
  },
  {
   "cell_type": "code",
   "execution_count": 26,
   "metadata": {},
   "outputs": [],
   "source": [
    "# left_on and right_on when the joining keys don't share a name\n",
    "# drop can delete labels\n",
    "week1.merge(customers, how=\"left\", left_on=\"Customer ID\", right_on=\"ID\", sort=True).drop(\"ID\", axis = \"columns\")\n",
    "\n",
    "Output = False"
   ]
  },
  {
   "cell_type": "code",
   "execution_count": 32,
   "metadata": {},
   "outputs": [],
   "source": [
    "# left_index and right_index when the joining keys are the indexes\n",
    "# customers.set_index(\"ID\", inplace=True)\n",
    "# foods.set_index(\"Food ID\", inplace=True)\n",
    "sales = week1.merge(customers, how=\"left\", left_on=\"Customer ID\", right_index=True)\n",
    "sales = sales.merge(foods, how=\"left\", left_on=\"Food ID\", right_index=True)"
   ]
  },
  {
   "cell_type": "code",
   "execution_count": 34,
   "metadata": {},
   "outputs": [],
   "source": [
    "# the .join() Method to concatenate vertically\n",
    "satisfaction = pd.read_csv(\"Restaurant - Week 1 Satisfaction.csv\")\n",
    "# To merge\n",
    "week1.merge(satisfaction, how=\"left\", left_index = True, right_index=True)\n",
    "# Using the join is shorter however when both indexes are shared\n",
    "week1.join(satisfaction)\n",
    "\n",
    "Output = False"
   ]
  },
  {
   "cell_type": "code",
   "execution_count": 36,
   "metadata": {},
   "outputs": [
    {
     "data": {
      "text/html": [
       "<div>\n",
       "<style scoped>\n",
       "    .dataframe tbody tr th:only-of-type {\n",
       "        vertical-align: middle;\n",
       "    }\n",
       "\n",
       "    .dataframe tbody tr th {\n",
       "        vertical-align: top;\n",
       "    }\n",
       "\n",
       "    .dataframe thead th {\n",
       "        text-align: right;\n",
       "    }\n",
       "</style>\n",
       "<table border=\"1\" class=\"dataframe\">\n",
       "  <thead>\n",
       "    <tr style=\"text-align: right;\">\n",
       "      <th></th>\n",
       "      <th>Customer ID</th>\n",
       "      <th>Food ID</th>\n",
       "      <th>Food Item</th>\n",
       "      <th>Price</th>\n",
       "    </tr>\n",
       "  </thead>\n",
       "  <tbody>\n",
       "    <tr>\n",
       "      <th>0</th>\n",
       "      <td>537</td>\n",
       "      <td>9</td>\n",
       "      <td>Donut</td>\n",
       "      <td>0.99</td>\n",
       "    </tr>\n",
       "    <tr>\n",
       "      <th>1</th>\n",
       "      <td>97</td>\n",
       "      <td>4</td>\n",
       "      <td>Quesadilla</td>\n",
       "      <td>4.25</td>\n",
       "    </tr>\n",
       "    <tr>\n",
       "      <th>2</th>\n",
       "      <td>658</td>\n",
       "      <td>1</td>\n",
       "      <td>Sushi</td>\n",
       "      <td>3.99</td>\n",
       "    </tr>\n",
       "    <tr>\n",
       "      <th>3</th>\n",
       "      <td>202</td>\n",
       "      <td>2</td>\n",
       "      <td>Burrito</td>\n",
       "      <td>9.99</td>\n",
       "    </tr>\n",
       "    <tr>\n",
       "      <th>4</th>\n",
       "      <td>155</td>\n",
       "      <td>9</td>\n",
       "      <td>Donut</td>\n",
       "      <td>0.99</td>\n",
       "    </tr>\n",
       "    <tr>\n",
       "      <th>...</th>\n",
       "      <td>...</td>\n",
       "      <td>...</td>\n",
       "      <td>...</td>\n",
       "      <td>...</td>\n",
       "    </tr>\n",
       "    <tr>\n",
       "      <th>245</th>\n",
       "      <td>413</td>\n",
       "      <td>9</td>\n",
       "      <td>Donut</td>\n",
       "      <td>0.99</td>\n",
       "    </tr>\n",
       "    <tr>\n",
       "      <th>246</th>\n",
       "      <td>926</td>\n",
       "      <td>6</td>\n",
       "      <td>Pasta</td>\n",
       "      <td>13.99</td>\n",
       "    </tr>\n",
       "    <tr>\n",
       "      <th>247</th>\n",
       "      <td>134</td>\n",
       "      <td>3</td>\n",
       "      <td>Taco</td>\n",
       "      <td>2.99</td>\n",
       "    </tr>\n",
       "    <tr>\n",
       "      <th>248</th>\n",
       "      <td>396</td>\n",
       "      <td>6</td>\n",
       "      <td>Pasta</td>\n",
       "      <td>13.99</td>\n",
       "    </tr>\n",
       "    <tr>\n",
       "      <th>249</th>\n",
       "      <td>535</td>\n",
       "      <td>10</td>\n",
       "      <td>Drink</td>\n",
       "      <td>1.75</td>\n",
       "    </tr>\n",
       "  </tbody>\n",
       "</table>\n",
       "<p>250 rows × 4 columns</p>\n",
       "</div>"
      ],
      "text/plain": [
       "     Customer ID  Food ID   Food Item  Price\n",
       "0            537        9       Donut   0.99\n",
       "1             97        4  Quesadilla   4.25\n",
       "2            658        1       Sushi   3.99\n",
       "3            202        2     Burrito   9.99\n",
       "4            155        9       Donut   0.99\n",
       "..           ...      ...         ...    ...\n",
       "245          413        9       Donut   0.99\n",
       "246          926        6       Pasta  13.99\n",
       "247          134        3        Taco   2.99\n",
       "248          396        6       Pasta  13.99\n",
       "249          535       10       Drink   1.75\n",
       "\n",
       "[250 rows x 4 columns]"
      ]
     },
     "execution_count": 36,
     "metadata": {},
     "output_type": "execute_result"
    }
   ],
   "source": [
    "# The pd.merge() Method is the same with different syntax\n",
    "# foods.reset_index(inplace=True)\n",
    "pd.merge(week1, foods, how=\"left\", left_on=\"Food ID\", right_on=\"Food ID\")"
   ]
  },
  {
   "cell_type": "code",
   "execution_count": null,
   "metadata": {},
   "outputs": [],
   "source": []
  }
 ],
 "metadata": {
  "kernelspec": {
   "display_name": "Python 3",
   "language": "python",
   "name": "python3"
  },
  "language_info": {
   "codemirror_mode": {
    "name": "ipython",
    "version": 3
   },
   "file_extension": ".py",
   "mimetype": "text/x-python",
   "name": "python",
   "nbconvert_exporter": "python",
   "pygments_lexer": "ipython3",
   "version": "3.8.3"
  }
 },
 "nbformat": 4,
 "nbformat_minor": 4
}
