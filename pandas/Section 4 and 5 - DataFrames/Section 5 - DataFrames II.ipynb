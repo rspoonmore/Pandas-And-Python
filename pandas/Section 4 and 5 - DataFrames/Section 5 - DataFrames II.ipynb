{
 "cells": [
  {
   "cell_type": "code",
   "execution_count": 1,
   "metadata": {},
   "outputs": [],
   "source": [
    "import pandas as pd"
   ]
  },
  {
   "cell_type": "code",
   "execution_count": 2,
   "metadata": {},
   "outputs": [],
   "source": [
    "df = pd.read_csv(\"employees.csv\")\n",
    "\n",
    "# To pull in Start Date and Last Login Time as date from the beginning \n",
    "# df = pd.read_csv(\"employees.csv\", parse_dates = [\"Start Date\", \"Last Login Time\"])"
   ]
  },
  {
   "cell_type": "code",
   "execution_count": 4,
   "metadata": {},
   "outputs": [
    {
     "name": "stdout",
     "output_type": "stream",
     "text": [
      "<class 'pandas.core.frame.DataFrame'>\n",
      "RangeIndex: 1000 entries, 0 to 999\n",
      "Data columns (total 8 columns):\n",
      " #   Column             Non-Null Count  Dtype  \n",
      "---  ------             --------------  -----  \n",
      " 0   First Name         933 non-null    object \n",
      " 1   Gender             855 non-null    object \n",
      " 2   Start Date         1000 non-null   object \n",
      " 3   Last Login Time    1000 non-null   object \n",
      " 4   Salary             1000 non-null   int64  \n",
      " 5   Bonus %            1000 non-null   float64\n",
      " 6   Senior Management  933 non-null    object \n",
      " 7   Team               957 non-null    object \n",
      "dtypes: float64(1), int64(1), object(6)\n",
      "memory usage: 62.6+ KB\n"
     ]
    }
   ],
   "source": [
    "df.info()"
   ]
  },
  {
   "cell_type": "code",
   "execution_count": 8,
   "metadata": {},
   "outputs": [],
   "source": [
    "df[\"Start Date\"] = pd.to_datetime(df[\"Start Date\"])"
   ]
  },
  {
   "cell_type": "code",
   "execution_count": 11,
   "metadata": {},
   "outputs": [],
   "source": [
    "df[\"Last Login Time\"] = pd.to_datetime(df[\"Last Login Time\"])"
   ]
  },
  {
   "cell_type": "code",
   "execution_count": 13,
   "metadata": {},
   "outputs": [],
   "source": [
    "df[\"Senior Management\"] = df[\"Senior Management\"].astype(\"bool\")"
   ]
  },
  {
   "cell_type": "code",
   "execution_count": 14,
   "metadata": {},
   "outputs": [],
   "source": [
    "df[\"Gender\"] = df[\"Gender\"].astype(\"category\")"
   ]
  },
  {
   "cell_type": "code",
   "execution_count": 16,
   "metadata": {},
   "outputs": [],
   "source": [
    "# Save dfOriginal so future edits don't impact it\n",
    "dfOriginal = df"
   ]
  },
  {
   "cell_type": "code",
   "execution_count": 21,
   "metadata": {},
   "outputs": [],
   "source": [
    "# Compare elements in a series to a single value\n",
    "df[\"Gender\"] == \"Male\"\n",
    "\n",
    "# To pull only Male gender from a DF\n",
    "df[df[\"Gender\"] == \"Male\"]\n",
    "\n",
    "# To pull all finance members\n",
    "df[df[\"Team\"] == \"Finance\"]\n",
    "\n",
    "Output = False"
   ]
  },
  {
   "cell_type": "code",
   "execution_count": 23,
   "metadata": {},
   "outputs": [],
   "source": [
    "# Two step filtering technique\n",
    "mask = df[\"Team\"] == \"Finance\"\n",
    "df[mask]\n",
    "\n",
    "Output = False"
   ]
  },
  {
   "cell_type": "code",
   "execution_count": 35,
   "metadata": {},
   "outputs": [],
   "source": [
    "# Filter a DF using more than one condition\n",
    "\n",
    "# Find all males in marketing team\n",
    "mask1 = df[\"Gender\"] == \"Male\"\n",
    "mask2 = df[\"Team\"] == \"Marketing\"\n",
    "df[mask1 & mask2]\n",
    "\n",
    "# Final Senior Management or Start Date < 1990\n",
    "mask3 = df[\"Senior Management\"]\n",
    "mask4 = df[\"Start Date\"] < \"1990-01-01\"\n",
    "df[mask3 | mask4]\n",
    "\n",
    "\n",
    "# Name of Robert & Client Services OR Start Date >= 2016-06-01\n",
    "mask5 = df[\"First Name\"] == \"Robert\"\n",
    "mask6 = df[\"Team\"] == \"Client Services\"\n",
    "mask7 = df[\"Start Date\"] >= \"2016-06-01\"\n",
    "df[(mask5 & mask6) | mask7]\n",
    "\n",
    "Output = False"
   ]
  },
  {
   "cell_type": "code",
   "execution_count": 38,
   "metadata": {},
   "outputs": [],
   "source": [
    "# Check for multiple values in a DF using .isin() Method\n",
    "\n",
    "# Find all rows where Team in Legal, Sales, Product\n",
    "df[df[\"Team\"].isin([\"Legal\", \"Sales\", \"Product\"])]\n",
    "\n",
    "Output = False"
   ]
  },
  {
   "cell_type": "code",
   "execution_count": 42,
   "metadata": {},
   "outputs": [],
   "source": [
    "# Check for nulls in a DF using .isnull() and .notnull() Methods\n",
    "\n",
    "# Find all nulls in Team\n",
    "df[df[\"Team\"].isnull()]\n",
    "\n",
    "# Find all non nulls in Team\n",
    "df[df[\"Team\"].notnull()]\n",
    "\n",
    "Output = False"
   ]
  },
  {
   "cell_type": "code",
   "execution_count": 49,
   "metadata": {},
   "outputs": [],
   "source": [
    "# Check for ranges in a DF using the .between() Method\n",
    "\n",
    "# Find all with salary between 60,000 and 70,000\n",
    "df[df[\"Salary\"].between(60000, 70000)]\n",
    "\n",
    "# Find all with bonus between 2 and 5\n",
    "df[df[\"Bonus %\"].between(2.0, 5.0)]\n",
    "\n",
    "# Find all with Start Date between 1990 and 2000\n",
    "df[df[\"Start Date\"].between(\"1990-01-01\", \"2000-01-01\")]\n",
    "\n",
    "# Find all with Last Login Time between 8:30 and Noon\n",
    "df[df[\"Last Login Time\"].between(\"8:30 AM\", \"12:00 PM\")]\n",
    "\n",
    "Output = False"
   ]
  },
  {
   "cell_type": "code",
   "execution_count": 58,
   "metadata": {},
   "outputs": [],
   "source": [
    "# Check for duplicate rows in a DF using .duplicated() Method\n",
    "\n",
    "df.sort_values(\"First Name\", inplace = True)\n",
    "df[[\"First Name\", \"Team\"]].duplicated()\n",
    "# Set keep = \"last\" if you want to save the last occurance not the first\n",
    "df[[\"First Name\", \"Team\"]].duplicated(keep = \"last\")\n",
    "# Set keep = False if you want to set all instances of a duplicate as duplicated\n",
    "df[[\"First Name\", \"Team\"]].duplicated(keep = False)\n",
    "\n",
    "# Find all unique first names\n",
    "df[~df[\"First Name\"].duplicated(keep = False)]\n",
    "\n",
    "Output = False"
   ]
  },
  {
   "cell_type": "code",
   "execution_count": 65,
   "metadata": {},
   "outputs": [],
   "source": [
    "# Eliminate duplicates in a DF using .drop_duplicates() Method\n",
    "# .drop_duplicates() can be run on a df not just a series like .duplicated()\n",
    "df = dfOriginal\n",
    "\n",
    "# Run with empty () to drop all rows with identical values\n",
    "df.drop_duplicates(inplace = True)\n",
    "\n",
    "# delete duplicates of name and team\n",
    "df.drop_duplicates(subset = [\"First Name\", \"Team\"], keep = \"first\", inplace = True)"
   ]
  },
  {
   "cell_type": "code",
   "execution_count": 70,
   "metadata": {},
   "outputs": [],
   "source": [
    "# Find unique and number of unique values in DF using .unique() and .nunique() Methods\n",
    "\n",
    "df = dfOriginal\n",
    "\n",
    "# Find unique values for Gender\n",
    "df[\"Gender\"].unique()\n",
    "\n",
    "# Find number of unique teams in DF\n",
    "df[\"Team\"].nunique()\n",
    "# Set dropna = False to counts NULLs as well\n",
    "df[\"Team\"].nunique(dropna = False)\n",
    "\n",
    "Output = False"
   ]
  },
  {
   "cell_type": "code",
   "execution_count": null,
   "metadata": {},
   "outputs": [],
   "source": []
  }
 ],
 "metadata": {
  "kernelspec": {
   "display_name": "Python 3",
   "language": "python",
   "name": "python3"
  },
  "language_info": {
   "codemirror_mode": {
    "name": "ipython",
    "version": 3
   },
   "file_extension": ".py",
   "mimetype": "text/x-python",
   "name": "python",
   "nbconvert_exporter": "python",
   "pygments_lexer": "ipython3",
   "version": "3.8.3"
  }
 },
 "nbformat": 4,
 "nbformat_minor": 4
}
